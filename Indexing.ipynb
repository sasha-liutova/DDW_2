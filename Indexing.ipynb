{
 "cells": [
  {
   "cell_type": "code",
   "execution_count": 2,
   "metadata": {
    "collapsed": true
   },
   "outputs": [],
   "source": [
    "from sklearn.metrics.pairwise import cosine_similarity, euclidean_distances\n",
    "from sklearn.feature_extraction.text import TfidfVectorizer, CountVectorizer\n",
    "import numpy as np\n",
    "from sklearn.metrics import precision_score, recall_score, f1_score"
   ]
  },
  {
   "cell_type": "markdown",
   "metadata": {},
   "source": [
    "### Loading data"
   ]
  },
  {
   "cell_type": "code",
   "execution_count": 7,
   "metadata": {
    "collapsed": false
   },
   "outputs": [],
   "source": [
    "corpus = []\n",
    "for d in range(1400):\n",
    "    f = open(\"./Indexing/cranfield/d/\" + str(d + 1) + \".txt\")\n",
    "    corpus.append(f.read())"
   ]
  },
  {
   "cell_type": "code",
   "execution_count": 8,
   "metadata": {
    "collapsed": true
   },
   "outputs": [],
   "source": [
    "queries = []\n",
    "for q in range(1, 225, 1):\n",
    "    f = open(\"./Indexing/cranfield/q/\" + str(q) + \".txt\")\n",
    "    queries.append(f.read())"
   ]
  },
  {
   "cell_type": "code",
   "execution_count": 9,
   "metadata": {
    "collapsed": true
   },
   "outputs": [],
   "source": [
    "references = []\n",
    "for r in range(1, 225, 1):\n",
    "    f = open(\"./Indexing/cranfield/r/\" + str(q) + \".txt\")\n",
    "    references.append([int(x) for x in f.read().split('\\n')[:-1]])"
   ]
  },
  {
   "cell_type": "code",
   "execution_count": 10,
   "metadata": {
    "collapsed": false
   },
   "outputs": [
    {
     "data": {
      "text/plain": [
       "[656, 1313, 1317, 1316, 1318, 1319, 1157, 1274, 1286]"
      ]
     },
     "execution_count": 10,
     "metadata": {},
     "output_type": "execute_result"
    }
   ],
   "source": [
    "references[0]"
   ]
  },
  {
   "cell_type": "code",
   "execution_count": 11,
   "metadata": {
    "collapsed": false,
    "scrolled": true
   },
   "outputs": [],
   "source": [
    "for r in references:\n",
    "    if len(r) != 9:\n",
    "        print(r.count('\\n')) # => all references contain 9 values"
   ]
  },
  {
   "cell_type": "markdown",
   "metadata": {},
   "source": [
    "## TF-IDF"
   ]
  },
  {
   "cell_type": "code",
   "execution_count": 3,
   "metadata": {
    "collapsed": true
   },
   "outputs": [],
   "source": [
    "tfidf_vectorizer = TfidfVectorizer()"
   ]
  },
  {
   "cell_type": "markdown",
   "metadata": {},
   "source": [
    "#### Cosine meassure"
   ]
  },
  {
   "cell_type": "code",
   "execution_count": 57,
   "metadata": {
    "collapsed": false
   },
   "outputs": [],
   "source": [
    "precision_list, recall_list, f_measure_list = [], [], []\n",
    "for i in range(len(queries)):\n",
    "    query = queries[i]\n",
    "    reference = references[i]\n",
    "    \n",
    "    corpus.append(query)\n",
    "    \n",
    "    tfidf_matrix = tfidf_vectorizer.fit_transform(corpus)\n",
    "    tfidf_sim = np.array(cosine_similarity(tfidf_matrix[len(corpus) - 1], tfidf_matrix[0:(len(corpus) - 1)])[0])\n",
    "    tfidf_topRelevant = tfidf_sim.argsort()[-9:][::-1] + 1\n",
    "    \n",
    "    precision = precision_score(reference, tfidf_topRelevant, average='micro')\n",
    "    precision_list.append(precision)\n",
    "    recall = recall_score(reference, tfidf_topRelevant, average='micro')\n",
    "    recall_list.append(recall)\n",
    "    f_measure = f1_score(reference, tfidf_topRelevant, average='micro')\n",
    "    f_measure_list.append(f_measure)\n",
    "    \n",
    "    corpus.pop()"
   ]
  },
  {
   "cell_type": "code",
   "execution_count": 60,
   "metadata": {
    "collapsed": true
   },
   "outputs": [],
   "source": [
    "tfidf_cos_precision = sum(precision_list)/len(precision_list)\n",
    "tfidf_cos_recall = sum(recall_list)/len(recall_list)\n",
    "tfidf_cos_f_measure = sum(f_measure_list)/len(f_measure_list)"
   ]
  },
  {
   "cell_type": "code",
   "execution_count": 61,
   "metadata": {
    "collapsed": false
   },
   "outputs": [
    {
     "name": "stdout",
     "output_type": "stream",
     "text": [
      "precision:  0.0014880952381 , recall:  0.0014880952381 , f-measure:  0.0014880952381\n"
     ]
    }
   ],
   "source": [
    "print('precision: ', tfidf_cos_precision ,', recall: ', tfidf_cos_recall, ', f-measure: ' ,tfidf_cos_f_measure)"
   ]
  },
  {
   "cell_type": "markdown",
   "metadata": {},
   "source": [
    "#### Euclidian distance"
   ]
  },
  {
   "cell_type": "code",
   "execution_count": 63,
   "metadata": {
    "collapsed": true
   },
   "outputs": [],
   "source": [
    "precision_list, recall_list, f_measure_list = [], [], []\n",
    "for i in range(len(queries)):\n",
    "    query = queries[i]\n",
    "    reference = references[i]\n",
    "    \n",
    "    corpus.append(query)\n",
    "    \n",
    "    tfidf_matrix = tfidf_vectorizer.fit_transform(corpus)\n",
    "    tfidf_sim = np.array(euclidean_distances(tfidf_matrix[len(corpus) - 1], tfidf_matrix[0:(len(corpus) - 1)])[0])\n",
    "    tfidf_topRelevant = tfidf_sim.argsort()[-9:][::-1] + 1\n",
    "    \n",
    "    precision = precision_score(reference, tfidf_topRelevant, average='micro')\n",
    "    precision_list.append(precision)\n",
    "    recall = recall_score(reference, tfidf_topRelevant, average='micro')\n",
    "    recall_list.append(recall)\n",
    "    f_measure = f1_score(reference, tfidf_topRelevant, average='micro')\n",
    "    f_measure_list.append(f_measure)\n",
    "    \n",
    "    corpus.pop()"
   ]
  },
  {
   "cell_type": "code",
   "execution_count": 64,
   "metadata": {
    "collapsed": true
   },
   "outputs": [],
   "source": [
    "tfidf_eukl_precision = sum(precision_list)/len(precision_list)\n",
    "tfidf_eukl_recall = sum(recall_list)/len(recall_list)\n",
    "tfidf_eukl_f_measure = sum(f_measure_list)/len(f_measure_list)"
   ]
  },
  {
   "cell_type": "code",
   "execution_count": 65,
   "metadata": {
    "collapsed": false
   },
   "outputs": [
    {
     "name": "stdout",
     "output_type": "stream",
     "text": [
      "precision:  0.0 , recall:  0.0 , f-measure:  0.0\n"
     ]
    }
   ],
   "source": [
    "print('precision: ', tfidf_eukl_precision ,', recall: ', tfidf_eukl_recall, ', f-measure: ' ,tfidf_eukl_f_measure)"
   ]
  },
  {
   "cell_type": "markdown",
   "metadata": {},
   "source": [
    "### Term Frequency"
   ]
  },
  {
   "cell_type": "code",
   "execution_count": 5,
   "metadata": {
    "collapsed": true
   },
   "outputs": [],
   "source": [
    "count_vectorizer = CountVectorizer()"
   ]
  },
  {
   "cell_type": "markdown",
   "metadata": {},
   "source": [
    "#### Cosine meassure"
   ]
  },
  {
   "cell_type": "code",
   "execution_count": 12,
   "metadata": {
    "collapsed": false
   },
   "outputs": [],
   "source": [
    "precision_list, recall_list, f_measure_list = [], [], []\n",
    "for i in range(len(queries)):\n",
    "    query = queries[i]\n",
    "    reference = references[i]\n",
    "    \n",
    "    corpus.append(query)\n",
    "    \n",
    "    count_matrix = count_vectorizer.fit_transform(corpus)\n",
    "    count_sim = np.array(cosine_similarity(count_matrix[len(corpus) - 1], count_matrix[0:(len(corpus) - 1)])[0])\n",
    "    count_topRelevant = count_sim.argsort()[-9:][::-1] + 1\n",
    "    \n",
    "    precision = precision_score(reference, count_topRelevant, average='micro')\n",
    "    precision_list.append(precision)\n",
    "    recall = recall_score(reference, count_topRelevant, average='micro')\n",
    "    recall_list.append(recall)\n",
    "    f_measure = f1_score(reference, count_topRelevant, average='micro')\n",
    "    f_measure_list.append(f_measure)\n",
    "    \n",
    "    corpus.pop()"
   ]
  },
  {
   "cell_type": "code",
   "execution_count": 13,
   "metadata": {
    "collapsed": true
   },
   "outputs": [],
   "source": [
    "count_cos_precision = sum(precision_list)/len(precision_list)\n",
    "count_cos_recall = sum(recall_list)/len(recall_list)\n",
    "count_cos_f_measure = sum(f_measure_list)/len(f_measure_list)"
   ]
  },
  {
   "cell_type": "code",
   "execution_count": 14,
   "metadata": {
    "collapsed": false
   },
   "outputs": [
    {
     "name": "stdout",
     "output_type": "stream",
     "text": [
      "precision:  0.0 , recall:  0.0 , f-measure:  0.0\n"
     ]
    }
   ],
   "source": [
    "print('precision: ', count_cos_precision ,', recall: ', count_cos_recall, ', f-measure: ' ,count_cos_f_measure)"
   ]
  },
  {
   "cell_type": "markdown",
   "metadata": {},
   "source": [
    "#### Euclidian distance"
   ]
  },
  {
   "cell_type": "code",
   "execution_count": 15,
   "metadata": {
    "collapsed": true
   },
   "outputs": [],
   "source": [
    "precision_list, recall_list, f_measure_list = [], [], []\n",
    "for i in range(len(queries)):\n",
    "    query = queries[i]\n",
    "    reference = references[i]\n",
    "    \n",
    "    corpus.append(query)\n",
    "    \n",
    "    count_matrix = count_vectorizer.fit_transform(corpus)\n",
    "    count_sim = np.array(euclidean_distances(count_matrix[len(corpus) - 1], count_matrix[0:(len(corpus) - 1)])[0])\n",
    "    count_topRelevant = count_sim.argsort()[-9:][::-1] + 1\n",
    "    \n",
    "    precision = precision_score(reference, count_topRelevant, average='micro')\n",
    "    precision_list.append(precision)\n",
    "    recall = recall_score(reference, count_topRelevant, average='micro')\n",
    "    recall_list.append(recall)\n",
    "    f_measure = f1_score(reference, count_topRelevant, average='micro')\n",
    "    f_measure_list.append(f_measure)\n",
    "    \n",
    "    corpus.pop()"
   ]
  },
  {
   "cell_type": "code",
   "execution_count": 16,
   "metadata": {
    "collapsed": true
   },
   "outputs": [],
   "source": [
    "count_cos_precision = sum(precision_list)/len(precision_list)\n",
    "count_cos_recall = sum(recall_list)/len(recall_list)\n",
    "count_cos_f_measure = sum(f_measure_list)/len(f_measure_list)"
   ]
  },
  {
   "cell_type": "code",
   "execution_count": 17,
   "metadata": {
    "collapsed": false
   },
   "outputs": [
    {
     "name": "stdout",
     "output_type": "stream",
     "text": [
      "precision:  0.111111111111 , recall:  0.111111111111 , f-measure:  0.111111111111\n"
     ]
    }
   ],
   "source": [
    "print('precision: ', count_cos_precision ,', recall: ', count_cos_recall, ', f-measure: ' ,count_cos_f_measure)"
   ]
  },
  {
   "cell_type": "markdown",
   "metadata": {},
   "source": [
    "### Binary representation"
   ]
  },
  {
   "cell_type": "markdown",
   "metadata": {},
   "source": [
    "#### Cosine meassure"
   ]
  },
  {
   "cell_type": "code",
   "execution_count": null,
   "metadata": {
    "collapsed": false,
    "scrolled": true
   },
   "outputs": [
    {
     "name": "stderr",
     "output_type": "stream",
     "text": [
      "/Users/liutova/anaconda/lib/python3.5/site-packages/sklearn/utils/validation.py:395: DeprecationWarning: Passing 1d arrays as data is deprecated in 0.17 and will raise ValueError in 0.19. Reshape your data either using X.reshape(-1, 1) if your data has a single feature or X.reshape(1, -1) if it contains a single sample.\n",
      "  DeprecationWarning)\n",
      "/Users/liutova/anaconda/lib/python3.5/site-packages/sklearn/utils/validation.py:395: DeprecationWarning: Passing 1d arrays as data is deprecated in 0.17 and will raise ValueError in 0.19. Reshape your data either using X.reshape(-1, 1) if your data has a single feature or X.reshape(1, -1) if it contains a single sample.\n",
      "  DeprecationWarning)\n",
      "/Users/liutova/anaconda/lib/python3.5/site-packages/sklearn/utils/validation.py:395: DeprecationWarning: Passing 1d arrays as data is deprecated in 0.17 and will raise ValueError in 0.19. Reshape your data either using X.reshape(-1, 1) if your data has a single feature or X.reshape(1, -1) if it contains a single sample.\n",
      "  DeprecationWarning)\n",
      "/Users/liutova/anaconda/lib/python3.5/site-packages/sklearn/utils/validation.py:395: DeprecationWarning: Passing 1d arrays as data is deprecated in 0.17 and will raise ValueError in 0.19. Reshape your data either using X.reshape(-1, 1) if your data has a single feature or X.reshape(1, -1) if it contains a single sample.\n",
      "  DeprecationWarning)\n",
      "/Users/liutova/anaconda/lib/python3.5/site-packages/sklearn/utils/validation.py:395: DeprecationWarning: Passing 1d arrays as data is deprecated in 0.17 and will raise ValueError in 0.19. Reshape your data either using X.reshape(-1, 1) if your data has a single feature or X.reshape(1, -1) if it contains a single sample.\n",
      "  DeprecationWarning)\n",
      "/Users/liutova/anaconda/lib/python3.5/site-packages/sklearn/utils/validation.py:395: DeprecationWarning: Passing 1d arrays as data is deprecated in 0.17 and will raise ValueError in 0.19. Reshape your data either using X.reshape(-1, 1) if your data has a single feature or X.reshape(1, -1) if it contains a single sample.\n",
      "  DeprecationWarning)\n",
      "/Users/liutova/anaconda/lib/python3.5/site-packages/sklearn/utils/validation.py:395: DeprecationWarning: Passing 1d arrays as data is deprecated in 0.17 and will raise ValueError in 0.19. Reshape your data either using X.reshape(-1, 1) if your data has a single feature or X.reshape(1, -1) if it contains a single sample.\n",
      "  DeprecationWarning)\n",
      "/Users/liutova/anaconda/lib/python3.5/site-packages/sklearn/utils/validation.py:395: DeprecationWarning: Passing 1d arrays as data is deprecated in 0.17 and will raise ValueError in 0.19. Reshape your data either using X.reshape(-1, 1) if your data has a single feature or X.reshape(1, -1) if it contains a single sample.\n",
      "  DeprecationWarning)\n",
      "/Users/liutova/anaconda/lib/python3.5/site-packages/sklearn/utils/validation.py:395: DeprecationWarning: Passing 1d arrays as data is deprecated in 0.17 and will raise ValueError in 0.19. Reshape your data either using X.reshape(-1, 1) if your data has a single feature or X.reshape(1, -1) if it contains a single sample.\n",
      "  DeprecationWarning)\n",
      "/Users/liutova/anaconda/lib/python3.5/site-packages/sklearn/utils/validation.py:395: DeprecationWarning: Passing 1d arrays as data is deprecated in 0.17 and will raise ValueError in 0.19. Reshape your data either using X.reshape(-1, 1) if your data has a single feature or X.reshape(1, -1) if it contains a single sample.\n",
      "  DeprecationWarning)\n",
      "/Users/liutova/anaconda/lib/python3.5/site-packages/sklearn/utils/validation.py:395: DeprecationWarning: Passing 1d arrays as data is deprecated in 0.17 and will raise ValueError in 0.19. Reshape your data either using X.reshape(-1, 1) if your data has a single feature or X.reshape(1, -1) if it contains a single sample.\n",
      "  DeprecationWarning)\n",
      "/Users/liutova/anaconda/lib/python3.5/site-packages/sklearn/utils/validation.py:395: DeprecationWarning: Passing 1d arrays as data is deprecated in 0.17 and will raise ValueError in 0.19. Reshape your data either using X.reshape(-1, 1) if your data has a single feature or X.reshape(1, -1) if it contains a single sample.\n",
      "  DeprecationWarning)\n",
      "/Users/liutova/anaconda/lib/python3.5/site-packages/sklearn/utils/validation.py:395: DeprecationWarning: Passing 1d arrays as data is deprecated in 0.17 and will raise ValueError in 0.19. Reshape your data either using X.reshape(-1, 1) if your data has a single feature or X.reshape(1, -1) if it contains a single sample.\n",
      "  DeprecationWarning)\n",
      "/Users/liutova/anaconda/lib/python3.5/site-packages/sklearn/utils/validation.py:395: DeprecationWarning: Passing 1d arrays as data is deprecated in 0.17 and will raise ValueError in 0.19. Reshape your data either using X.reshape(-1, 1) if your data has a single feature or X.reshape(1, -1) if it contains a single sample.\n",
      "  DeprecationWarning)\n",
      "/Users/liutova/anaconda/lib/python3.5/site-packages/sklearn/utils/validation.py:395: DeprecationWarning: Passing 1d arrays as data is deprecated in 0.17 and will raise ValueError in 0.19. Reshape your data either using X.reshape(-1, 1) if your data has a single feature or X.reshape(1, -1) if it contains a single sample.\n",
      "  DeprecationWarning)\n",
      "/Users/liutova/anaconda/lib/python3.5/site-packages/sklearn/utils/validation.py:395: DeprecationWarning: Passing 1d arrays as data is deprecated in 0.17 and will raise ValueError in 0.19. Reshape your data either using X.reshape(-1, 1) if your data has a single feature or X.reshape(1, -1) if it contains a single sample.\n",
      "  DeprecationWarning)\n",
      "/Users/liutova/anaconda/lib/python3.5/site-packages/sklearn/utils/validation.py:395: DeprecationWarning: Passing 1d arrays as data is deprecated in 0.17 and will raise ValueError in 0.19. Reshape your data either using X.reshape(-1, 1) if your data has a single feature or X.reshape(1, -1) if it contains a single sample.\n",
      "  DeprecationWarning)\n"
     ]
    }
   ],
   "source": [
    "precision_list, recall_list, f_measure_list = [], [], []\n",
    "for i in range(len(queries)):\n",
    "    query = queries[i]\n",
    "    reference = references[i]\n",
    "    \n",
    "    corpus.append(query)\n",
    "\n",
    "    count_matrix = count_vectorizer.fit_transform(corpus)\n",
    "    binary_matrix = [[True if x>0 else False for x in row] for row in count_matrix.toarray()]\n",
    "    binary_sim = np.array(cosine_similarity(binary_matrix[len(corpus) - 1], binary_matrix[0:(len(corpus) - 1)])[0])\n",
    "    binary_topRelevant = binary_sim.argsort()[-9:][::-1] + 1\n",
    "    \n",
    "    precision = precision_score(reference, binary_topRelevant, average='micro')\n",
    "    precision_list.append(precision)\n",
    "    recall = recall_score(reference, binary_topRelevant, average='micro')\n",
    "    recall_list.append(recall)\n",
    "    f_measure = f1_score(reference, binary_topRelevant, average='micro')\n",
    "    f_measure_list.append(f_measure)\n",
    "    \n",
    "    corpus.pop()"
   ]
  },
  {
   "cell_type": "code",
   "execution_count": null,
   "metadata": {
    "collapsed": true
   },
   "outputs": [],
   "source": [
    "binary_cos_precision = sum(precision_list)/len(precision_list)\n",
    "binary_cos_recall = sum(recall_list)/len(recall_list)\n",
    "binary_cos_f_measure = sum(f_measure_list)/len(f_measure_list)"
   ]
  },
  {
   "cell_type": "code",
   "execution_count": null,
   "metadata": {
    "collapsed": true
   },
   "outputs": [],
   "source": [
    "print('precision: ', binary_cos_precision ,', recall: ', binary_cos_recall, ', f-measure: ' ,binary_cos_f_measure)"
   ]
  },
  {
   "cell_type": "markdown",
   "metadata": {},
   "source": [
    "#### Euclidian distance"
   ]
  },
  {
   "cell_type": "code",
   "execution_count": null,
   "metadata": {
    "collapsed": true
   },
   "outputs": [],
   "source": [
    "precision_list, recall_list, f_measure_list = [], [], []\n",
    "for i in range(len(queries)):\n",
    "    query = queries[i]\n",
    "    reference = references[i]\n",
    "    \n",
    "    corpus.append(query)\n",
    "\n",
    "    count_matrix = count_vectorizer.fit_transform(corpus)\n",
    "    binary_matrix = [[True if x>0 else False for x in row] for row in count_matrix.toarray()]\n",
    "    binary_sim = np.array(euclidean_distances(binary_matrix[len(corpus) - 1], binary_matrix[0:(len(corpus) - 1)])[0])\n",
    "    binary_topRelevant = binary_sim.argsort()[-9:][::-1] + 1\n",
    "    \n",
    "    precision = precision_score(reference, binary_topRelevant, average='micro')\n",
    "    precision_list.append(precision)\n",
    "    recall = recall_score(reference, binary_topRelevant, average='micro')\n",
    "    recall_list.append(recall)\n",
    "    f_measure = f1_score(reference, binary_topRelevant, average='micro')\n",
    "    f_measure_list.append(f_measure)\n",
    "    \n",
    "    corpus.pop()"
   ]
  },
  {
   "cell_type": "code",
   "execution_count": null,
   "metadata": {
    "collapsed": true
   },
   "outputs": [],
   "source": [
    "binary_cos_precision = sum(precision_list)/len(precision_list)\n",
    "binary_cos_recall = sum(recall_list)/len(recall_list)\n",
    "binary_cos_f_measure = sum(f_measure_list)/len(f_measure_list)"
   ]
  },
  {
   "cell_type": "code",
   "execution_count": null,
   "metadata": {
    "collapsed": true
   },
   "outputs": [],
   "source": [
    "print('precision: ', binary_cos_precision ,', recall: ', binary_cos_recall, ', f-measure: ' ,binary_cos_f_measure)"
   ]
  }
 ],
 "metadata": {
  "anaconda-cloud": {},
  "kernelspec": {
   "display_name": "Python [conda root]",
   "language": "python",
   "name": "conda-root-py"
  },
  "language_info": {
   "codemirror_mode": {
    "name": "ipython",
    "version": 3
   },
   "file_extension": ".py",
   "mimetype": "text/x-python",
   "name": "python",
   "nbconvert_exporter": "python",
   "pygments_lexer": "ipython3",
   "version": "3.5.2"
  }
 },
 "nbformat": 4,
 "nbformat_minor": 1
}
